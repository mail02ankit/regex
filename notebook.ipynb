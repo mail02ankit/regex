{
 "cells": [
  {
   "cell_type": "code",
   "execution_count": 9,
   "metadata": {},
   "outputs": [],
   "source": [
    "'''\n",
    "* Import modules\n",
    "'''\n",
    "import pandas as pd\n",
    "pd.options.display.max_rows = 4000 # To display all elements\n"
   ]
  },
  {
   "cell_type": "code",
   "execution_count": 10,
   "metadata": {},
   "outputs": [
    {
     "name": "stdout",
     "output_type": "stream",
     "text": [
      "<class 'pandas.core.frame.DataFrame'>\n",
      "RangeIndex: 500 entries, 0 to 499\n",
      "Data columns (total 1 columns):\n",
      "text    500 non-null object\n",
      "dtypes: object(1)\n",
      "memory usage: 4.0+ KB\n"
     ]
    },
    {
     "data": {
      "text/plain": [
       "text    03/25/93 Total time of visit (in minutes):\\n\n",
       "Name: 0, dtype: object"
      ]
     },
     "execution_count": 10,
     "metadata": {},
     "output_type": "execute_result"
    }
   ],
   "source": [
    "'''\n",
    "* Read the raw data.\n",
    "'''    \n",
    "import pandas as pd\n",
    "\n",
    "# Read data\n",
    "doc = []\n",
    "with open('dates.txt') as file:\n",
    "    for line in file:\n",
    "        doc.append(line)\n",
    "\n",
    "df = pd.Series(doc)\n",
    "# Easy to handle a data frame.\n",
    "df = pd.DataFrame( df, columns=['text'])\n",
    "\n",
    "### Info\n",
    "df.info()\n",
    "df.iloc[0]"
   ]
  },
  {
   "cell_type": "code",
   "execution_count": 11,
   "metadata": {},
   "outputs": [],
   "source": [
    "'''\n",
    "* Clean the dataset\n",
    "'''\n",
    "\n",
    "# Remove decimal numbers to avoid possible conflict with date/year/month\n",
    "df['text'] = df['text'].str.replace(r'\\d{1,4}\\.\\d{1,4}', '???')"
   ]
  },
  {
   "cell_type": "code",
   "execution_count": 12,
   "metadata": {},
   "outputs": [],
   "source": [
    "'''\n",
    "* Define building blocks for the date, month and year patterns.\n",
    "'''\n",
    "\n",
    "# Spacing\n",
    "single_spacing = r'[ \\-,.():;/\\n]'\n",
    "double_spacing = r'[ \\-,.():;/\\n]?[ \\-,.():;/\\n]'\n",
    "\n",
    "# Suffixes\n",
    "suffixes = r'[(st)(rd)(th)]'\n",
    "\n",
    "# Months\n",
    "months = r'(?P<month>[1-9]|0[1-9]|1[012])' # It fixes all.\n",
    "\n",
    "# Years\n",
    "years = r'(?P<year>\\d{4}|\\d{2})'\n",
    "\n",
    "# Years_only-- 4 length\n",
    "years_only = r'(?P<year>\\d{4})'\n",
    "\n",
    "# Dates\n",
    "dates = r'(?P<date>[1-9]|0[1-9]|[12]\\d|3[01])' # Fixes all.\n",
    "\n",
    "#Months names\n",
    "months_name = r'(?P<month>(?:Jan|Feb|Mar|Apr|May|Jun|Jul|Aug|Sep|Oct|Nov|Dec)[a-z]*)'\n",
    "\n",
    "# Dict to convert names to number\n",
    "month_dict = {'Jan':1, 'January':1, 'Janaury' :1, #Note multiple spellings to cover human mistakes\n",
    "              'Feb':2, 'February':2,\n",
    "              'Mar':3, 'March':3, \n",
    "              'Apr':4, 'April':4, \n",
    "              'May':5,\n",
    "              'Jun':6, 'June':6,\n",
    "              'Jul':7, 'July':7,\n",
    "              'Aug':8, 'August':8, \n",
    "              'Sep':9, 'September':9,\n",
    "              'Oct':10, 'October':10,\n",
    "              'Nov':11, 'November':11, \n",
    "              'Dec':12, 'December':12, 'Decemeber':12\n",
    "             }"
   ]
  },
  {
   "cell_type": "code",
   "execution_count": 13,
   "metadata": {},
   "outputs": [],
   "source": [
    "'''\n",
    "* Combine pattern to search possible date patterns:\n",
    "04/20/2009; 04/20/09; 4/20/09; 4/3/09\n",
    "Mar-20-2009; Mar 20, 2009; March 20, 2009; Mar. 20, 2009; Mar 20 2009;\n",
    "20 Mar 2009; 20 March 2009; 20 Mar. 2009; 20 March, 2009 \n",
    "Mar 20th, 2009; Mar 21st, 2009; Mar 22nd, 2009\n",
    "Feb 2009; Sep 2009; Oct 2010\n",
    "6/2008; 12/2009\n",
    "2009; 2010\n",
    "'''\n",
    "\n",
    "pat0 = months+single_spacing+dates+single_spacing+years\n",
    "pat1 = months_name+single_spacing+dates+double_spacing+years_only\n",
    "pat2 = dates+single_spacing+months_name+single_spacing+years_only\n",
    "pat3 = months_name+double_spacing+years_only\n",
    "pat4 = months+double_spacing+years_only\n",
    "pat5 = years_only+double_spacing\n",
    "\n",
    "######### Search the patterns and combine\n",
    "pat = [pat0, pat1, pat2, pat3, pat4, pat5]\n",
    "\n",
    "for i,ipat in enumerate(pat):\n",
    "    # Search the pattern in the Pandas series.\n",
    "    out = df['text'].str.extractall( ipat )\n",
    "    # Remove the entries that have been used.\n",
    "    bool_index = ~df.index.isin([index[0] for index in out.index])\n",
    "    df = df[bool_index]\n",
    "    # Replace months name by numbers\n",
    "    out.replace(month_dict, inplace=True)\n",
    "    for icol in out.columns:\n",
    "        out[icol] = out[icol].astype(int)\n",
    "    # Combine\n",
    "    if i == 0:\n",
    "        target_df = out\n",
    "    else:\n",
    "        target_df = pd.concat([target_df, out], ignore_index=False, sort=False ) # It work for diffrent order. Notes it changes datatype to fload because NAN is float.\n",
    "\n",
    "target_df['date'] = target_df['date'].fillna(1).astype(int)\n",
    "target_df['month'] = target_df['month'].fillna(1).astype(int)\n",
    "target_df['year'] = target_df['year'].apply(lambda x: 1900 + x if x <100 else x).astype(int)\n",
    "\n",
    "# Sort dates and return the target dataset\n",
    "target_df = target_df.sort_values( by=['year','month', 'date'], ascending=True)\n"
   ]
  },
  {
   "cell_type": "code",
   "execution_count": 14,
   "metadata": {},
   "outputs": [
    {
     "data": {
      "text/html": [
       "<div>\n",
       "<style scoped>\n",
       "    .dataframe tbody tr th:only-of-type {\n",
       "        vertical-align: middle;\n",
       "    }\n",
       "\n",
       "    .dataframe tbody tr th {\n",
       "        vertical-align: top;\n",
       "    }\n",
       "\n",
       "    .dataframe thead th {\n",
       "        text-align: right;\n",
       "    }\n",
       "</style>\n",
       "<table border=\"1\" class=\"dataframe\">\n",
       "  <thead>\n",
       "    <tr style=\"text-align: right;\">\n",
       "      <th></th>\n",
       "      <th></th>\n",
       "      <th>month</th>\n",
       "      <th>date</th>\n",
       "      <th>year</th>\n",
       "    </tr>\n",
       "    <tr>\n",
       "      <th></th>\n",
       "      <th>match</th>\n",
       "      <th></th>\n",
       "      <th></th>\n",
       "      <th></th>\n",
       "    </tr>\n",
       "  </thead>\n",
       "  <tbody>\n",
       "    <tr>\n",
       "      <td>9</td>\n",
       "      <td>0</td>\n",
       "      <td>4</td>\n",
       "      <td>10</td>\n",
       "      <td>1971</td>\n",
       "    </tr>\n",
       "    <tr>\n",
       "      <td>84</td>\n",
       "      <td>0</td>\n",
       "      <td>5</td>\n",
       "      <td>18</td>\n",
       "      <td>1971</td>\n",
       "    </tr>\n",
       "    <tr>\n",
       "      <td>2</td>\n",
       "      <td>0</td>\n",
       "      <td>7</td>\n",
       "      <td>8</td>\n",
       "      <td>1971</td>\n",
       "    </tr>\n",
       "    <tr>\n",
       "      <td>53</td>\n",
       "      <td>0</td>\n",
       "      <td>7</td>\n",
       "      <td>11</td>\n",
       "      <td>1971</td>\n",
       "    </tr>\n",
       "    <tr>\n",
       "      <td>28</td>\n",
       "      <td>0</td>\n",
       "      <td>9</td>\n",
       "      <td>12</td>\n",
       "      <td>1971</td>\n",
       "    </tr>\n",
       "  </tbody>\n",
       "</table>\n",
       "</div>"
      ],
      "text/plain": [
       "          month  date  year\n",
       "   match                   \n",
       "9  0          4    10  1971\n",
       "84 0          5    18  1971\n",
       "2  0          7     8  1971\n",
       "53 0          7    11  1971\n",
       "28 0          9    12  1971"
      ]
     },
     "execution_count": 14,
     "metadata": {},
     "output_type": "execute_result"
    }
   ],
   "source": [
    "'''\n",
    "* Cross-check the ans.\n",
    "'''\n",
    "\n",
    "target_df.head()"
   ]
  },
  {
   "cell_type": "code",
   "execution_count": null,
   "metadata": {},
   "outputs": [],
   "source": []
  }
 ],
 "metadata": {
  "coursera": {
   "course_slug": "python-text-mining",
   "graded_item_id": "LvcWI",
   "launcher_item_id": "krne9",
   "part_id": "Mkp1I"
  },
  "kernelspec": {
   "display_name": "Python 3",
   "language": "python",
   "name": "python3"
  },
  "language_info": {
   "codemirror_mode": {
    "name": "ipython",
    "version": 3
   },
   "file_extension": ".py",
   "mimetype": "text/x-python",
   "name": "python",
   "nbconvert_exporter": "python",
   "pygments_lexer": "ipython3",
   "version": "3.7.4"
  }
 },
 "nbformat": 4,
 "nbformat_minor": 4
}
